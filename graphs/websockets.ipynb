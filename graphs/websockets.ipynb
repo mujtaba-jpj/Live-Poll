{
 "cells": [
  {
   "cell_type": "code",
   "execution_count": null,
   "metadata": {},
   "outputs": [],
   "source": [
    "import random\n",
    "\n",
    "def get_data_from_api():\n",
    "    print(random.randint(1,100))\n",
    "    return random.randint(1,100)\n",
    "\n",
    "get_data_from_api()"
   ]
  },
  {
   "cell_type": "code",
   "execution_count": null,
   "metadata": {},
   "outputs": [],
   "source": [
    "import asyncio\n",
    "import websockets\n",
    "import json\n",
    "\n",
    "async def send_data(self):\n",
    "        while True:\n",
    "            # Retrieve data from your API\n",
    "            data = get_data_from_api()\n",
    "\n",
    "            # Send data to the client\n",
    "            await self.send(json.dumps(data))\n",
    "\n",
    "            # Delay between each data push (optional)\n",
    "            await asyncio.sleep(1)\n",
    "\n",
    "# Run the server forever\n",
    "\n"
   ]
  }
 ],
 "metadata": {
  "kernelspec": {
   "display_name": "Python 3",
   "language": "python",
   "name": "python3"
  },
  "language_info": {
   "name": "python",
   "version": "3.11.0"
  },
  "orig_nbformat": 4
 },
 "nbformat": 4,
 "nbformat_minor": 2
}
